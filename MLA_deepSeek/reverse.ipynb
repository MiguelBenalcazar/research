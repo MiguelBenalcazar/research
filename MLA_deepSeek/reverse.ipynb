{
 "cells": [
  {
   "cell_type": "markdown",
   "metadata": {},
   "source": [
    "### Simple Reverse Problem Multihead Latent Attention with positioning (RoPE)"
   ]
  },
  {
   "cell_type": "code",
   "execution_count": 1,
   "metadata": {},
   "outputs": [],
   "source": [
    "import os\n",
    "import sys\n",
    "# Move up one directory\n",
    "os.chdir(\"..\")\n",
    "path_models_lib = os.path.join(os.getcwd(), \"models\")\n",
    "assert os.path.isdir(path_models_lib), \"No folder models\"\n",
    "# Add the parent directory to sys.path\n",
    "sys.path.append(path_models_lib)"
   ]
  },
  {
   "cell_type": "code",
   "execution_count": 3,
   "metadata": {},
   "outputs": [],
   "source": [
    "import os\n",
    "import math\n",
    "from dataclasses import dataclass\n",
    "from typing import Tuple, Optional, Literal\n",
    "\n",
    "import torch\n",
    "from torch import nn\n",
    "from torch.optim.lr_scheduler import SequentialLR, LinearLR, CosineAnnealingLR\n",
    "\n",
    "from einops import rearrange\n",
    "import torch.optim as optim\n",
    "import torch.utils.data as data\n",
    "from functools import partial\n",
    "\n",
    "import numpy as np\n",
    "import matplotlib.pyplot as plt\n",
    "\n",
    "## tqdm for loading bars\n",
    "# from tqdm import tqdm\n",
    "from tqdm.notebook import tqdm\n",
    "\n",
    "\n",
    "plt.set_cmap('cividis')\n",
    "%matplotlib inline\n",
    "from matplotlib.colors import to_rgb\n",
    "import matplotlib\n",
    "matplotlib.rcParams['lines.linewidth'] = 2.0\n",
    "import seaborn as sns\n",
    "sns.reset_orig()\n",
    "\n",
    "import pytorch_lightning as pl\n",
    "from pytorch_lightning.callbacks import LearningRateMonitor, ModelCheckpoint, EarlyStopping\n",
    "from pytorch_lightning.loggers import TensorBoardLogger\n",
    "\n",
    "\n",
    "## Torchvision\n",
    "import torchvision\n",
    "from torchvision.datasets import CIFAR100\n",
    "from torchvision import transforms\n",
    "\n",
    "\n",
    "from models.MLA_Rope.MLA_RoPE import ModelArgs, Transformer\n"
   ]
  },
  {
   "cell_type": "code",
   "execution_count": 8,
   "metadata": {},
   "outputs": [
    {
     "name": "stderr",
     "output_type": "stream",
     "text": [
      "Seed set to 42\n"
     ]
    },
    {
     "name": "stdout",
     "output_type": "stream",
     "text": [
      "Device: cuda:0\n"
     ]
    }
   ],
   "source": [
    "# Path to the folder where the datasets are/should be downloaded (e.g. CIFAR10)\n",
    "DATASET_PATH = \"C:/Users/Miguel/Documents/Malky/research/data/mla_jax\"\n",
    "# Path to the folder where the pretrained models are saved\n",
    "CHECKPOINT_PATH = \"C:/Users/Miguel/Documents/Malky/research/saved_models/mla_deepSeek_reverse\"\n",
    "\n",
    "\n",
    "# Setting the seed\n",
    "pl.seed_everything(42)\n",
    "\n",
    "# Ensure that all operations are deterministic on GPU (if used) for reproducibility\n",
    "torch.backends.cudnn.deterministic = True\n",
    "torch.backends.cudnn.benchmark = False\n",
    "\n",
    "device = torch.device(\"cuda:0\") if torch.cuda.is_available() else torch.device(\"cpu\")\n",
    "print(\"Device:\", device)\n"
   ]
  },
  {
   "cell_type": "code",
   "execution_count": 9,
   "metadata": {},
   "outputs": [],
   "source": [
    "def plot_attention_maps(input_data, attn_maps, idx=0):\n",
    "    # \n",
    "    if input_data is not None:\n",
    "        input_data = input_data[idx].detach().cpu().numpy()\n",
    "    else:\n",
    "        input_data = np.arange(attn_maps[0][idx].shape[-1])\n",
    "    attn_maps = [m[idx].detach().cpu().numpy() for m in attn_maps]\n",
    "\n",
    "    num_heads = attn_maps[0].shape[0]\n",
    "    num_layers = len(attn_maps)\n",
    "    seq_len = input_data.shape[0]\n",
    "    fig_size = 4 if num_heads == 1 else 3\n",
    "    fig, ax = plt.subplots(num_layers, num_heads, figsize=(num_heads*fig_size, num_layers*fig_size))\n",
    "    if num_layers == 1:\n",
    "        ax = [ax]\n",
    "    if num_heads == 1:\n",
    "        ax = [[a] for a in ax]\n",
    "    for row in range(num_layers):\n",
    "        for column in range(num_heads):\n",
    "            ax[row][column].imshow(attn_maps[row][column], origin='lower', vmin=0)\n",
    "            ax[row][column].set_xticks(list(range(seq_len)))\n",
    "            # ax[row][column].set_xticklabels(input_data.tolist())\n",
    "            ax[row][column].set_yticks(list(range(seq_len)))\n",
    "            # ax[row][column].set_yticklabels(input_data.tolist())\n",
    "            ax[row][column].set_title(f\"Layer {row+1}, Head {column+1}\")\n",
    "    fig.subplots_adjust(hspace=0.5)\n",
    "    plt.show()"
   ]
  },
  {
   "cell_type": "code",
   "execution_count": 67,
   "metadata": {},
   "outputs": [],
   "source": [
    "class CosineWarmupScheduler(optim.lr_scheduler._LRScheduler):\n",
    "\n",
    "    def __init__(self, optimizer, warmup, max_iters):\n",
    "        self.warmup = warmup\n",
    "        self.max_num_iters = max_iters\n",
    "        super().__init__(optimizer)\n",
    "\n",
    "    def get_lr(self):\n",
    "        lr_factor = self.get_lr_factor(epoch=self.last_epoch)\n",
    "        return [base_lr * lr_factor for base_lr in self.base_lrs]\n",
    "\n",
    "    def get_lr_factor(self, epoch):\n",
    "        lr_factor = 0.5 * (1 + np.cos(np.pi * epoch / self.max_num_iters))\n",
    "        if epoch <= self.warmup:\n",
    "            lr_factor *= epoch * 1.0 / self.warmup\n",
    "        return lr_factor"
   ]
  },
  {
   "cell_type": "code",
   "execution_count": 68,
   "metadata": {},
   "outputs": [],
   "source": [
    "class TransformerPredictor(pl.LightningModule):\n",
    "\n",
    "    def __init__(self, args, **kwargs):\n",
    "        \"\"\"\n",
    "        Inputs:\n",
    "           \n",
    "            lr - Learning rate in the optimizer\n",
    "            warmup - Number of warmup steps. Usually between 50 and 500\n",
    "            max_iters - Number of maximum iterations the model is trained for. This is needed for the CosineWarmup scheduler\n",
    "            dropout - Dropout to apply inside the model\n",
    "            input_dropout - Dropout to apply on the input features\n",
    "        \"\"\"\n",
    "        super().__init__()\n",
    "         # Save hyperparameters to the checkpoint\n",
    "        self.save_hyperparameters()\n",
    "\n",
    "        dropout_out = kwargs.get(\"dropout_out\", 0.1)\n",
    "        self.warmup = kwargs.get('warmup', 50)\n",
    "        self.max_iters = kwargs.get('max_iters', 50)\n",
    "        self.lr = kwargs.get(\"lr\", 1e-6 )\n",
    "\n",
    "        self.vocab_size = args.vocab_size\n",
    "        \n",
    "        self.transformer = Transformer(args=args)\n",
    "        self.output_net = nn.Sequential(\n",
    "            nn.Linear(args.dim, args.dim),\n",
    "            nn.RMSNorm(args.dim),\n",
    "            nn.ReLU(inplace=True),\n",
    "            nn.Dropout(dropout_out),\n",
    "            nn.Linear(args.dim, args.vocab_size)\n",
    "        )\n",
    "    \n",
    "    def forward(self, x: torch.Tensor, mask=Optional[torch.Tensor], start_pos: int = 0):\n",
    "        x = self.transformer(tokens = x, mask = mask, start_pos = start_pos)\n",
    "        x = self.output_net(x)\n",
    "        return x\n",
    "    \n",
    "    @torch.no_grad()\n",
    "    def get_attention_maps(self, x: torch.Tensor, mask=Optional[torch.Tensor], start_pos: int = 0):\n",
    "        \"\"\"\n",
    "        Function for extracting the attention matrices of the whole Transformer for a single batch.\n",
    "        Input arguments same as the forward pass.\n",
    "        \"\"\"\n",
    "        attention_maps = self.transformer.get_attention_maps(tokens = x, mask = mask, start_pos = start_pos)\n",
    "        return attention_maps\n",
    "    \n",
    "    def configure_optimizers(self):\n",
    "\n",
    "        optimizer = optim.AdamW(self.parameters(), lr=self.lr)\n",
    "        # Apply lr scheduler per step\n",
    "        lr_scheduler = CosineWarmupScheduler(optimizer,\n",
    "                                             warmup=self.warmup ,\n",
    "                                             max_iters=self.max_iters)\n",
    "         \n",
    "\n",
    "        return {\n",
    "            \"optimizer\": optimizer,\n",
    "            \"lr_scheduler\": {\n",
    "                \"scheduler\": lr_scheduler,\n",
    "                \"interval\": \"step\"  # Adjust learning rate per step\n",
    "            }\n",
    "        }\n",
    "       \n",
    "       \n",
    "    \n",
    "    def training_step(self, batch, batch_idx):\n",
    "        raise NotImplementedError\n",
    "\n",
    "    def validation_step(self, batch, batch_idx):\n",
    "        raise NotImplementedError\n",
    "\n",
    "    def test_step(self, batch, batch_idx):\n",
    "        raise NotImplementedError"
   ]
  },
  {
   "cell_type": "code",
   "execution_count": 69,
   "metadata": {},
   "outputs": [],
   "source": [
    "class ReversePredictor(TransformerPredictor):\n",
    "\n",
    "    def _calculate_loss(self, batch, mode=\"train\"):\n",
    "        # Fetch data and transform categories to one-hot vectors\n",
    "       \n",
    "        inp_data, labels = batch\n",
    "        inp_data = nn.functional.one_hot(inp_data, num_classes=self.vocab_size).float()\n",
    "\n",
    "        # Perform prediction and calculate loss and accuracy\n",
    "        preds = self.forward(inp_data, mask=None, start_pos=0) \n",
    "\n",
    "        loss = nn.functional.cross_entropy(preds.view(-1,preds.size(-1)), labels.view(-1))\n",
    "        acc = (preds.argmax(dim=-1) == labels).float().mean()\n",
    "\n",
    "        # Logging\n",
    "        self.log(f\"{mode}_loss\", loss, prog_bar=True)\n",
    "        self.log(f\"{mode}_acc\", acc, prog_bar=True)\n",
    "\n",
    "\n",
    "        return loss, acc\n",
    "\n",
    "\n",
    "    def training_step(self, batch, batch_idx):\n",
    "        loss, _ = self._calculate_loss(batch, mode=\"train\")\n",
    "        return loss\n",
    "    \n",
    "    def validation_step(self, batch, batch_idx):\n",
    "  \n",
    "        _ = self._calculate_loss(batch, mode=\"val\")\n",
    "    \n",
    "    def test_step(self, batch, batch_idx):\n",
    "        _ = self._calculate_loss(batch, mode=\"test\")"
   ]
  },
  {
   "cell_type": "markdown",
   "metadata": {},
   "source": [
    "Data"
   ]
  },
  {
   "cell_type": "code",
   "execution_count": 10,
   "metadata": {},
   "outputs": [],
   "source": [
    "class ReverseDataset(data.Dataset):\n",
    "\n",
    "    def __init__(self, num_categories, seq_len, size):\n",
    "        super().__init__()\n",
    "        self.num_categories = num_categories\n",
    "        self.seq_len = seq_len\n",
    "        self.size = size\n",
    "\n",
    "        self.data = torch.randint(self.num_categories, size=(self.size, self.seq_len))\n",
    "\n",
    "    def __len__(self):\n",
    "        return self.size\n",
    "\n",
    "    def __getitem__(self, idx):\n",
    "        inp_data = self.data[idx]\n",
    "        labels = torch.flip(inp_data, dims=(0,))\n",
    "        return inp_data, labels"
   ]
  },
  {
   "cell_type": "code",
   "execution_count": 11,
   "metadata": {},
   "outputs": [],
   "source": [
    "batch_size = 128\n",
    "dataset = partial(ReverseDataset, 10, 16)\n",
    "train_loader = data.DataLoader(dataset(50000), batch_size=batch_size, shuffle=True, drop_last=True, pin_memory=True)\n",
    "val_loader   = data.DataLoader(dataset(1000), batch_size=batch_size)\n",
    "test_loader  = data.DataLoader(dataset(10000), batch_size=batch_size)"
   ]
  },
  {
   "cell_type": "code",
   "execution_count": 12,
   "metadata": {},
   "outputs": [
    {
     "name": "stdout",
     "output_type": "stream",
     "text": [
      "Input data: tensor([2, 7, 6, 4, 6, 5, 0, 4, 0, 3, 8, 4, 0, 4, 1, 2])\n",
      "Labels:     tensor([2, 1, 4, 0, 4, 8, 3, 0, 4, 0, 5, 6, 4, 6, 7, 2])\n"
     ]
    }
   ],
   "source": [
    "inp_data, labels = train_loader.dataset[0]\n",
    "print(\"Input data:\", inp_data)\n",
    "print(\"Labels:    \", labels)"
   ]
  },
  {
   "cell_type": "code",
   "execution_count": null,
   "metadata": {},
   "outputs": [],
   "source": [
    "def train_reverse(args, **kwargs):\n",
    "\n",
    "    max_epochs = kwargs.get(\"max_epochs\", 10)\n",
    "    # Create a PyTorch Lightning trainer with the generation callback\n",
    "    root_dir = os.path.join(CHECKPOINT_PATH, \"ReverseTask\")\n",
    "    os.makedirs(root_dir, exist_ok=True)\n",
    "    trainer = pl.Trainer(\n",
    "        default_root_dir=root_dir,\n",
    "        callbacks=[ModelCheckpoint(save_weights_only=True, mode=\"max\", monitor=\"val_acc\"), \n",
    "                   EarlyStopping(monitor='val_acc', patience=20, mode=\"max\")],\n",
    "        accelerator=\"gpu\" if str(device).startswith(\"cuda\") else \"cpu\",\n",
    "        # logger=TensorBoardLogger(save_dir= os.path.join(CHECKPOINT_PATH ,\"logs\")),\n",
    "        devices=1,\n",
    "        max_epochs=max_epochs,\n",
    "        gradient_clip_val=5)\n",
    "    \n",
    "    trainer.logger._default_hp_metric = None # Optional logging argument that we don't need\n",
    "\n",
    "    # Check whether pretrained model exists. If yes, load it and skip training\n",
    "    pretrained_filename = os.path.join(CHECKPOINT_PATH, \"ReverseTask.ckpt\")\n",
    "    if os.path.isfile(pretrained_filename):\n",
    "        print(\"Found pretrained model, loading...\")\n",
    "        model = ReversePredictor.load_from_checkpoint(pretrained_filename)\n",
    "    else:\n",
    "\n",
    "       \n",
    "        model = ReversePredictor(args,  **kwargs)\n",
    "        trainer.fit(model, train_loader, val_loader)\n",
    "\n",
    "    # Test best model on validation and test set\n",
    "    val_result = trainer.test(model, val_loader, verbose=False)\n",
    "    test_result = trainer.test(model, test_loader, verbose=False)\n",
    "    result = {\"test_acc\": test_result[0][\"test_acc\"], \"val_acc\": val_result[0][\"test_acc\"]}\n",
    "\n",
    "    model = model.to(device)\n",
    "    return model, result"
   ]
  },
  {
   "cell_type": "code",
   "execution_count": 96,
   "metadata": {},
   "outputs": [
    {
     "name": "stderr",
     "output_type": "stream",
     "text": [
      "GPU available: True (cuda), used: True\n",
      "TPU available: False, using: 0 TPU cores\n",
      "HPU available: False, using: 0 HPUs\n",
      "LOCAL_RANK: 0 - CUDA_VISIBLE_DEVICES: [0]\n",
      "\n",
      "  | Name        | Type        | Params | Mode \n",
      "----------------------------------------------------\n",
      "0 | transformer | Transformer | 9.8 K  | train\n",
      "1 | output_net  | Sequential  | 1.4 K  | train\n",
      "----------------------------------------------------\n",
      "11.3 K    Trainable params\n",
      "0         Non-trainable params\n",
      "11.3 K    Total params\n",
      "0.045     Total estimated model params size (MB)\n",
      "28        Modules in train mode\n",
      "0         Modules in eval mode\n"
     ]
    },
    {
     "data": {
      "application/vnd.jupyter.widget-view+json": {
       "model_id": "a907f7f460064ea2b693e0efc37fc904",
       "version_major": 2,
       "version_minor": 0
      },
      "text/plain": [
       "Sanity Checking: |          | 0/? [00:00<?, ?it/s]"
      ]
     },
     "metadata": {},
     "output_type": "display_data"
    },
    {
     "name": "stderr",
     "output_type": "stream",
     "text": [
      "c:\\Users\\Miguel\\anaconda3\\Lib\\site-packages\\pytorch_lightning\\trainer\\connectors\\data_connector.py:425: The 'val_dataloader' does not have many workers which may be a bottleneck. Consider increasing the value of the `num_workers` argument` to `num_workers=21` in the `DataLoader` to improve performance.\n",
      "c:\\Users\\Miguel\\anaconda3\\Lib\\site-packages\\pytorch_lightning\\trainer\\connectors\\data_connector.py:425: The 'train_dataloader' does not have many workers which may be a bottleneck. Consider increasing the value of the `num_workers` argument` to `num_workers=21` in the `DataLoader` to improve performance.\n"
     ]
    },
    {
     "data": {
      "application/vnd.jupyter.widget-view+json": {
       "model_id": "b6d18e77e36c4c79ab7447f89c5e610d",
       "version_major": 2,
       "version_minor": 0
      },
      "text/plain": [
       "Training: |          | 0/? [00:00<?, ?it/s]"
      ]
     },
     "metadata": {},
     "output_type": "display_data"
    },
    {
     "data": {
      "application/vnd.jupyter.widget-view+json": {
       "model_id": "8b970758c4fb4274aab91ea45e282716",
       "version_major": 2,
       "version_minor": 0
      },
      "text/plain": [
       "Validation: |          | 0/? [00:00<?, ?it/s]"
      ]
     },
     "metadata": {},
     "output_type": "display_data"
    },
    {
     "data": {
      "application/vnd.jupyter.widget-view+json": {
       "model_id": "9c95c7aad01f4a2fbdab927655b25ed9",
       "version_major": 2,
       "version_minor": 0
      },
      "text/plain": [
       "Validation: |          | 0/? [00:00<?, ?it/s]"
      ]
     },
     "metadata": {},
     "output_type": "display_data"
    },
    {
     "data": {
      "application/vnd.jupyter.widget-view+json": {
       "model_id": "33622e23e1b24055b68807b9151830a8",
       "version_major": 2,
       "version_minor": 0
      },
      "text/plain": [
       "Validation: |          | 0/? [00:00<?, ?it/s]"
      ]
     },
     "metadata": {},
     "output_type": "display_data"
    },
    {
     "data": {
      "application/vnd.jupyter.widget-view+json": {
       "model_id": "7cc83b7a0d2d41109da3f33b5fcd7286",
       "version_major": 2,
       "version_minor": 0
      },
      "text/plain": [
       "Validation: |          | 0/? [00:00<?, ?it/s]"
      ]
     },
     "metadata": {},
     "output_type": "display_data"
    },
    {
     "data": {
      "application/vnd.jupyter.widget-view+json": {
       "model_id": "af0b71da93464012b79d82210c9906c4",
       "version_major": 2,
       "version_minor": 0
      },
      "text/plain": [
       "Validation: |          | 0/? [00:00<?, ?it/s]"
      ]
     },
     "metadata": {},
     "output_type": "display_data"
    },
    {
     "data": {
      "application/vnd.jupyter.widget-view+json": {
       "model_id": "82aba8e433aa481386effcd3ab97d1f4",
       "version_major": 2,
       "version_minor": 0
      },
      "text/plain": [
       "Validation: |          | 0/? [00:00<?, ?it/s]"
      ]
     },
     "metadata": {},
     "output_type": "display_data"
    },
    {
     "data": {
      "application/vnd.jupyter.widget-view+json": {
       "model_id": "733f91f6af2c44359fe480a1cbb282d1",
       "version_major": 2,
       "version_minor": 0
      },
      "text/plain": [
       "Validation: |          | 0/? [00:00<?, ?it/s]"
      ]
     },
     "metadata": {},
     "output_type": "display_data"
    },
    {
     "data": {
      "application/vnd.jupyter.widget-view+json": {
       "model_id": "e09ecc43ba7d43ef917061216f8f7394",
       "version_major": 2,
       "version_minor": 0
      },
      "text/plain": [
       "Validation: |          | 0/? [00:00<?, ?it/s]"
      ]
     },
     "metadata": {},
     "output_type": "display_data"
    },
    {
     "data": {
      "application/vnd.jupyter.widget-view+json": {
       "model_id": "580dc392ef084a35b444c4e8003749ce",
       "version_major": 2,
       "version_minor": 0
      },
      "text/plain": [
       "Validation: |          | 0/? [00:00<?, ?it/s]"
      ]
     },
     "metadata": {},
     "output_type": "display_data"
    },
    {
     "data": {
      "application/vnd.jupyter.widget-view+json": {
       "model_id": "e230c7a805e04145b4c867aece341a78",
       "version_major": 2,
       "version_minor": 0
      },
      "text/plain": [
       "Validation: |          | 0/? [00:00<?, ?it/s]"
      ]
     },
     "metadata": {},
     "output_type": "display_data"
    },
    {
     "data": {
      "application/vnd.jupyter.widget-view+json": {
       "model_id": "97fc799ab0814a4da342978a2e5d005a",
       "version_major": 2,
       "version_minor": 0
      },
      "text/plain": [
       "Validation: |          | 0/? [00:00<?, ?it/s]"
      ]
     },
     "metadata": {},
     "output_type": "display_data"
    },
    {
     "data": {
      "application/vnd.jupyter.widget-view+json": {
       "model_id": "ee6fcbe1b25a42c38f1f4d187b6bf147",
       "version_major": 2,
       "version_minor": 0
      },
      "text/plain": [
       "Validation: |          | 0/? [00:00<?, ?it/s]"
      ]
     },
     "metadata": {},
     "output_type": "display_data"
    },
    {
     "data": {
      "application/vnd.jupyter.widget-view+json": {
       "model_id": "fde7a122d0fb4f0ea428be60c246680b",
       "version_major": 2,
       "version_minor": 0
      },
      "text/plain": [
       "Validation: |          | 0/? [00:00<?, ?it/s]"
      ]
     },
     "metadata": {},
     "output_type": "display_data"
    },
    {
     "data": {
      "application/vnd.jupyter.widget-view+json": {
       "model_id": "58c85936dd024920a49ba358e276c645",
       "version_major": 2,
       "version_minor": 0
      },
      "text/plain": [
       "Validation: |          | 0/? [00:00<?, ?it/s]"
      ]
     },
     "metadata": {},
     "output_type": "display_data"
    },
    {
     "data": {
      "application/vnd.jupyter.widget-view+json": {
       "model_id": "bb618841ca4b4dc1a269d86637f8350b",
       "version_major": 2,
       "version_minor": 0
      },
      "text/plain": [
       "Validation: |          | 0/? [00:00<?, ?it/s]"
      ]
     },
     "metadata": {},
     "output_type": "display_data"
    },
    {
     "data": {
      "application/vnd.jupyter.widget-view+json": {
       "model_id": "7a133ba5d08d436a9de2a54ebb298537",
       "version_major": 2,
       "version_minor": 0
      },
      "text/plain": [
       "Validation: |          | 0/? [00:00<?, ?it/s]"
      ]
     },
     "metadata": {},
     "output_type": "display_data"
    },
    {
     "data": {
      "application/vnd.jupyter.widget-view+json": {
       "model_id": "f515f98cd181406b8f49edad09d0d682",
       "version_major": 2,
       "version_minor": 0
      },
      "text/plain": [
       "Validation: |          | 0/? [00:00<?, ?it/s]"
      ]
     },
     "metadata": {},
     "output_type": "display_data"
    },
    {
     "data": {
      "application/vnd.jupyter.widget-view+json": {
       "model_id": "0812dc936db04c339bb10a55921b0803",
       "version_major": 2,
       "version_minor": 0
      },
      "text/plain": [
       "Validation: |          | 0/? [00:00<?, ?it/s]"
      ]
     },
     "metadata": {},
     "output_type": "display_data"
    },
    {
     "data": {
      "application/vnd.jupyter.widget-view+json": {
       "model_id": "fb4a0938f9f8427ab1bcb1dfde8fa257",
       "version_major": 2,
       "version_minor": 0
      },
      "text/plain": [
       "Validation: |          | 0/? [00:00<?, ?it/s]"
      ]
     },
     "metadata": {},
     "output_type": "display_data"
    },
    {
     "data": {
      "application/vnd.jupyter.widget-view+json": {
       "model_id": "04f8ee476bd24267b9fd677c7c06d31d",
       "version_major": 2,
       "version_minor": 0
      },
      "text/plain": [
       "Validation: |          | 0/? [00:00<?, ?it/s]"
      ]
     },
     "metadata": {},
     "output_type": "display_data"
    },
    {
     "data": {
      "application/vnd.jupyter.widget-view+json": {
       "model_id": "69dfd2a9856a41fa98bac8d2da5fe363",
       "version_major": 2,
       "version_minor": 0
      },
      "text/plain": [
       "Validation: |          | 0/? [00:00<?, ?it/s]"
      ]
     },
     "metadata": {},
     "output_type": "display_data"
    },
    {
     "data": {
      "application/vnd.jupyter.widget-view+json": {
       "model_id": "a1855dc213f74867b819079a2f31c7b9",
       "version_major": 2,
       "version_minor": 0
      },
      "text/plain": [
       "Validation: |          | 0/? [00:00<?, ?it/s]"
      ]
     },
     "metadata": {},
     "output_type": "display_data"
    },
    {
     "data": {
      "application/vnd.jupyter.widget-view+json": {
       "model_id": "6983368297d04dfd8584e098c74db196",
       "version_major": 2,
       "version_minor": 0
      },
      "text/plain": [
       "Validation: |          | 0/? [00:00<?, ?it/s]"
      ]
     },
     "metadata": {},
     "output_type": "display_data"
    },
    {
     "data": {
      "application/vnd.jupyter.widget-view+json": {
       "model_id": "5b2f71c110814e25a1cb92b889a5e935",
       "version_major": 2,
       "version_minor": 0
      },
      "text/plain": [
       "Validation: |          | 0/? [00:00<?, ?it/s]"
      ]
     },
     "metadata": {},
     "output_type": "display_data"
    },
    {
     "data": {
      "application/vnd.jupyter.widget-view+json": {
       "model_id": "ad0d054391d34983b6e03220cf30f7d3",
       "version_major": 2,
       "version_minor": 0
      },
      "text/plain": [
       "Validation: |          | 0/? [00:00<?, ?it/s]"
      ]
     },
     "metadata": {},
     "output_type": "display_data"
    },
    {
     "data": {
      "application/vnd.jupyter.widget-view+json": {
       "model_id": "50a05f03115e4af3ac7c1c225b4be8a7",
       "version_major": 2,
       "version_minor": 0
      },
      "text/plain": [
       "Validation: |          | 0/? [00:00<?, ?it/s]"
      ]
     },
     "metadata": {},
     "output_type": "display_data"
    },
    {
     "data": {
      "application/vnd.jupyter.widget-view+json": {
       "model_id": "69d82f417cc0434ebe676b8a86cc18d1",
       "version_major": 2,
       "version_minor": 0
      },
      "text/plain": [
       "Validation: |          | 0/? [00:00<?, ?it/s]"
      ]
     },
     "metadata": {},
     "output_type": "display_data"
    },
    {
     "data": {
      "application/vnd.jupyter.widget-view+json": {
       "model_id": "82ca9999e0ff4a62b90864ba52c858c4",
       "version_major": 2,
       "version_minor": 0
      },
      "text/plain": [
       "Validation: |          | 0/? [00:00<?, ?it/s]"
      ]
     },
     "metadata": {},
     "output_type": "display_data"
    },
    {
     "data": {
      "application/vnd.jupyter.widget-view+json": {
       "model_id": "20b1d93cd7834b27bca74f5e768c9d5a",
       "version_major": 2,
       "version_minor": 0
      },
      "text/plain": [
       "Validation: |          | 0/? [00:00<?, ?it/s]"
      ]
     },
     "metadata": {},
     "output_type": "display_data"
    },
    {
     "data": {
      "application/vnd.jupyter.widget-view+json": {
       "model_id": "eab7eb22a6c348379dea4f6e2e4e6a68",
       "version_major": 2,
       "version_minor": 0
      },
      "text/plain": [
       "Validation: |          | 0/? [00:00<?, ?it/s]"
      ]
     },
     "metadata": {},
     "output_type": "display_data"
    },
    {
     "name": "stderr",
     "output_type": "stream",
     "text": [
      "LOCAL_RANK: 0 - CUDA_VISIBLE_DEVICES: [0]\n",
      "c:\\Users\\Miguel\\anaconda3\\Lib\\site-packages\\pytorch_lightning\\trainer\\connectors\\data_connector.py:425: The 'test_dataloader' does not have many workers which may be a bottleneck. Consider increasing the value of the `num_workers` argument` to `num_workers=21` in the `DataLoader` to improve performance.\n"
     ]
    },
    {
     "data": {
      "application/vnd.jupyter.widget-view+json": {
       "model_id": "f1c04e1d291d464b9516a8f987b1ba1a",
       "version_major": 2,
       "version_minor": 0
      },
      "text/plain": [
       "Testing: |          | 0/? [00:00<?, ?it/s]"
      ]
     },
     "metadata": {},
     "output_type": "display_data"
    },
    {
     "name": "stderr",
     "output_type": "stream",
     "text": [
      "LOCAL_RANK: 0 - CUDA_VISIBLE_DEVICES: [0]\n"
     ]
    },
    {
     "data": {
      "application/vnd.jupyter.widget-view+json": {
       "model_id": "9cc6f5c969ea4bf6aa33eff10403a2f9",
       "version_major": 2,
       "version_minor": 0
      },
      "text/plain": [
       "Testing: |          | 0/? [00:00<?, ?it/s]"
      ]
     },
     "metadata": {},
     "output_type": "display_data"
    }
   ],
   "source": [
    "args = ModelArgs()\n",
    "args.input_dim = train_loader.dataset.num_categories\n",
    "args.vocab_size = train_loader.dataset.num_categories\n",
    "args.max_batch_size = batch_size\n",
    "\n",
    "args.dim = 32\n",
    "args.inter_dim =  2 * args.dim\n",
    "args.n_heads = 1\n",
    "args.n_layers = 1\n",
    "\n",
    "args.q_lora_rank = 16\n",
    "args.kv_lora_rank = 16\n",
    "args.qk_nope_head_dim  = 4\n",
    "args.qk_rope_head_dim = 6\n",
    "args.v_head_dim = 32\n",
    "args.dropout = 0.1\n",
    "\n",
    "\n",
    "train = {\n",
    "    \"dropout_out\":0.2,\n",
    "    \"warmup\" : 200,\n",
    "    \"max_iters\":200*len(train_loader),\n",
    "    \"lr\": 3e-4,\n",
    "    \"max_epochs\": 200\n",
    "  \n",
    "    }\n",
    "\n",
    "reverse_model, reverse_result = train_reverse(args=args, **train)"
   ]
  },
  {
   "cell_type": "code",
   "execution_count": 98,
   "metadata": {},
   "outputs": [],
   "source": [
    "# %load_ext tensorboard\n",
    "# %tensorboard --logdir os.path.join(CHECKPOINT_PATH, \"logs/lightning_logs/version_0\")"
   ]
  },
  {
   "cell_type": "code",
   "execution_count": 99,
   "metadata": {},
   "outputs": [
    {
     "name": "stdout",
     "output_type": "stream",
     "text": [
      "Val accuracy:  27.40%\n",
      "Test accuracy: 27.31%\n"
     ]
    }
   ],
   "source": [
    "print(f\"Val accuracy:  {(100.0 * reverse_result['val_acc']):4.2f}%\")\n",
    "print(f\"Test accuracy: {(100.0 * reverse_result['test_acc']):4.2f}%\")"
   ]
  },
  {
   "cell_type": "code",
   "execution_count": 100,
   "metadata": {},
   "outputs": [],
   "source": [
    "data_input, labels = next(iter(val_loader))\n",
    "inp_data = nn.functional.one_hot(data_input, num_classes=train_loader.dataset.num_categories).float()\n",
    "inp_data = inp_data.to(device)\n",
    "attention_maps = reverse_model.get_attention_maps(inp_data, mask=None, start_pos=0)"
   ]
  },
  {
   "cell_type": "code",
   "execution_count": 101,
   "metadata": {},
   "outputs": [
    {
     "data": {
      "image/png": "[encoded data removed]",
      "text/plain": [
       "<Figure size 400x400 with 1 Axes>"
      ]
     },
     "metadata": {},
     "output_type": "display_data"
    }
   ],
   "source": [
    "attention_maps[0].shape\n",
    "plot_attention_maps(data_input, attention_maps, idx=0)"
   ]
  },
  {
   "cell_type": "markdown",
   "metadata": {},
   "source": [
    "Load model torch lightning"
   ]
  },
  {
   "cell_type": "code",
   "execution_count": 4,
   "metadata": {},
   "outputs": [],
   "source": [
    "CHECKPOINT_PATH_FILE =  \"C:\\\\Users\\\\Miguel\\\\Documents\\\\Malky\\\\research\\\\saved_models\\\\mla_deepSeek_reverse\\\\ReverseTask\\\\lightning_logs\\\\version_7\\\\checkpoints\\\\epoch=9-step=3900.ckpt\""
   ]
  },
  {
   "cell_type": "code",
   "execution_count": 5,
   "metadata": {},
   "outputs": [
    {
     "data": {
      "text/plain": [
       "'C:\\\\Users\\\\Miguel\\\\Documents\\\\Malky\\\\research\\\\saved_models\\\\mla_deepSeek_reverse\\\\ReverseTask\\\\lightning_logs\\\\version_7\\\\checkpoints\\\\epoch=9-step=3900.ckpt'"
      ]
     },
     "execution_count": 5,
     "metadata": {},
     "output_type": "execute_result"
    }
   ],
   "source": [
    "CHECKPOINT_PATH_FILE"
   ]
  },
  {
   "cell_type": "code",
   "execution_count": 4,
   "metadata": {},
   "outputs": [],
   "source": [
    "from models.MLA_Rope.MLA_RoPE_inference import ModelArgs, Transformer"
   ]
  },
  {
   "cell_type": "code",
   "execution_count": null,
   "metadata": {},
   "outputs": [],
   "source": [
    "class TransformerPredictor(pl.LightningModule):\n",
    "\n",
    "    def __init__(self, args, **kwargs):\n",
    "        \"\"\"\n",
    "        Inputs:\n",
    "           \n",
    "            lr - Learning rate in the optimizer\n",
    "            warmup - Number of warmup steps. Usually between 50 and 500\n",
    "            max_iters - Number of maximum iterations the model is trained for. This is needed for the CosineWarmup scheduler\n",
    "        \"\"\"\n",
    "        super().__init__()\n",
    "         # Save hyperparameters to the checkpoint\n",
    "        self.save_hyperparameters()\n",
    "\n",
    "        self.warmup = kwargs.get('warmup', 50)\n",
    "        self.max_iters = kwargs.get('max_iters', 50)\n",
    "        self.lr = kwargs.get(\"lr\", 1e-6 )\n",
    "\n",
    "        self.vocab_size = args.vocab_size\n",
    "        dropout_out = kwargs.get(\"dropout_out\", 0.1)\n",
    "        \n",
    "        self.transformer = Transformer(args=args)\n",
    "        self.output_net = nn.Sequential(\n",
    "            nn.Linear(args.dim, args.dim),\n",
    "            nn.RMSNorm(args.dim),\n",
    "            nn.ReLU(inplace=True),\n",
    "            nn.Dropout(dropout_out),\n",
    "            nn.Linear(args.dim, args.vocab_size)\n",
    "        )\n",
    "    \n",
    "    def forward(self, x: torch.Tensor, mask=Optional[torch.Tensor], start_pos: int = 0):\n",
    "        x = self.transformer(tokens = x, mask = mask, start_pos = start_pos)\n",
    "        x = self.output_net(x)\n",
    "        return x\n",
    "    \n",
    "    @torch.no_grad()\n",
    "    def get_attention_maps(self, x: torch.Tensor, mask=Optional[torch.Tensor], start_pos: int = 0):\n",
    "        \"\"\"\n",
    "        Function for extracting the attention matrices of the whole Transformer for a single batch.\n",
    "        Input arguments same as the forward pass.\n",
    "        \"\"\"\n",
    "        attention_maps = self.transformer.get_attention_maps(tokens = x, mask = mask, start_pos = start_pos)\n",
    "        return attention_maps"
   ]
  },
  {
   "cell_type": "code",
   "execution_count": 14,
   "metadata": {},
   "outputs": [],
   "source": [
    "# Load the model from the checkpoint\n",
    "model = TransformerPredictor.load_from_checkpoint(CHECKPOINT_PATH_FILE)"
   ]
  },
  {
   "cell_type": "code",
   "execution_count": 15,
   "metadata": {},
   "outputs": [
    {
     "name": "stdout",
     "output_type": "stream",
     "text": [
      "<bound method Module.state_dict of TransformerPredictor(\n",
      "  (transformer): Transformer(\n",
      "    (embed): Linear(in_features=10, out_features=32, bias=True)\n",
      "    (layers): ModuleList(\n",
      "      (0): Block(\n",
      "        (attn): MLA(\n",
      "          (wq_a): Linear(in_features=32, out_features=16, bias=True)\n",
      "          (q_norm): RMSNorm((16,), eps=None, elementwise_affine=True)\n",
      "          (wq_b): Linear(in_features=16, out_features=10, bias=True)\n",
      "          (wkv_a): Linear(in_features=32, out_features=22, bias=True)\n",
      "          (kv_norm): RMSNorm((16,), eps=None, elementwise_affine=True)\n",
      "          (wkv_b): Linear(in_features=16, out_features=36, bias=True)\n",
      "          (wo): Linear(in_features=32, out_features=32, bias=True)\n",
      "        )\n",
      "        (ffn): MLP(\n",
      "          (w1): Linear(in_features=32, out_features=64, bias=True)\n",
      "          (w2): Linear(in_features=64, out_features=32, bias=True)\n",
      "          (w3): Linear(in_features=32, out_features=64, bias=True)\n",
      "        )\n",
      "        (attn_norm): RMSNorm((32,), eps=None, elementwise_affine=True)\n",
      "        (ffn_norm): RMSNorm((32,), eps=None, elementwise_affine=True)\n",
      "      )\n",
      "    )\n",
      "  )\n",
      "  (output_net): Sequential(\n",
      "    (0): Linear(in_features=32, out_features=32, bias=True)\n",
      "    (1): RMSNorm((32,), eps=None, elementwise_affine=True)\n",
      "    (2): ReLU(inplace=True)\n",
      "    (3): Dropout(p=0.2, inplace=False)\n",
      "    (4): Linear(in_features=32, out_features=10, bias=True)\n",
      "  )\n",
      ")>\n"
     ]
    }
   ],
   "source": [
    "print(model.state_dict)"
   ]
  },
  {
   "cell_type": "code",
   "execution_count": 25,
   "metadata": {},
   "outputs": [
    {
     "data": {
      "image/png": "[encoded data removed]",
      "text/plain": [
       "<Figure size 400x400 with 1 Axes>"
      ]
     },
     "metadata": {},
     "output_type": "display_data"
    }
   ],
   "source": [
    "data_input, labels = next(iter(val_loader))\n",
    "inp_data = nn.functional.one_hot(data_input, num_classes=train_loader.dataset.num_categories).float()\n",
    "inp_data = inp_data.to(device)\n",
    "attention_maps = model.get_attention_maps(inp_data, mask=None, start_pos=0)\n",
    "\n",
    "\n",
    "attention_maps[0].shape\n",
    "plot_attention_maps(data_input, attention_maps, idx=0)"
   ]
  },
  {
   "cell_type": "markdown",
   "metadata": {},
   "source": [
    "set model to evaluate"
   ]
  },
  {
   "cell_type": "code",
   "execution_count": 18,
   "metadata": {},
   "outputs": [
    {
     "data": {
      "text/plain": [
       "TransformerPredictor(\n",
       "  (transformer): Transformer(\n",
       "    (embed): Linear(in_features=10, out_features=32, bias=True)\n",
       "    (layers): ModuleList(\n",
       "      (0): Block(\n",
       "        (attn): MLA(\n",
       "          (wq_a): Linear(in_features=32, out_features=16, bias=True)\n",
       "          (q_norm): RMSNorm((16,), eps=None, elementwise_affine=True)\n",
       "          (wq_b): Linear(in_features=16, out_features=10, bias=True)\n",
       "          (wkv_a): Linear(in_features=32, out_features=22, bias=True)\n",
       "          (kv_norm): RMSNorm((16,), eps=None, elementwise_affine=True)\n",
       "          (wkv_b): Linear(in_features=16, out_features=36, bias=True)\n",
       "          (wo): Linear(in_features=32, out_features=32, bias=True)\n",
       "        )\n",
       "        (ffn): MLP(\n",
       "          (w1): Linear(in_features=32, out_features=64, bias=True)\n",
       "          (w2): Linear(in_features=64, out_features=32, bias=True)\n",
       "          (w3): Linear(in_features=32, out_features=64, bias=True)\n",
       "        )\n",
       "        (attn_norm): RMSNorm((32,), eps=None, elementwise_affine=True)\n",
       "        (ffn_norm): RMSNorm((32,), eps=None, elementwise_affine=True)\n",
       "      )\n",
       "    )\n",
       "  )\n",
       "  (output_net): Sequential(\n",
       "    (0): Linear(in_features=32, out_features=32, bias=True)\n",
       "    (1): RMSNorm((32,), eps=None, elementwise_affine=True)\n",
       "    (2): ReLU(inplace=True)\n",
       "    (3): Dropout(p=0.2, inplace=False)\n",
       "    (4): Linear(in_features=32, out_features=10, bias=True)\n",
       "  )\n",
       ")"
      ]
     },
     "execution_count": 18,
     "metadata": {},
     "output_type": "execute_result"
    }
   ],
   "source": [
    "model.eval()"
   ]
  },
  {
   "cell_type": "code",
   "execution_count": 20,
   "metadata": {},
   "outputs": [],
   "source": [
    "with torch.no_grad(): \n",
    "    output = model(inp_data, mask=None, start_pos=0)"
   ]
  },
  {
   "cell_type": "code",
   "execution_count": 28,
   "metadata": {},
   "outputs": [],
   "source": [
    "acc = (output.argmax(dim=-1).detach().cpu() == labels).float().mean()"
   ]
  },
  {
   "cell_type": "code",
   "execution_count": 31,
   "metadata": {},
   "outputs": [
    {
     "name": "stdout",
     "output_type": "stream",
     "text": [
      "Model Output: tensor(0.3110)\n"
     ]
    }
   ],
   "source": [
    "\n",
    "print(\"Model Output:\", acc)"
   ]
  },
  {
   "cell_type": "code",
   "execution_count": 33,
   "metadata": {},
   "outputs": [
    {
     "data": {
      "text/plain": [
       "device(type='cpu')"
      ]
     },
     "execution_count": 33,
     "metadata": {},
     "output_type": "execute_result"
    }
   ],
   "source": [
    "labels.device"
   ]
  },
  {
   "cell_type": "markdown",
   "metadata": {},
   "source": [
    "Load with simple torch"
   ]
  },
  {
   "cell_type": "code",
   "execution_count": 13,
   "metadata": {},
   "outputs": [],
   "source": [
    "import torch\n",
    "from models.MLA_RoPE_inference import Transformer\n",
    "from models.MLA_RoPE_inference import ModelArgs\n",
    "\n",
    "CHECKPOINT_PATH_FILE =  \"C:\\\\Users\\\\Miguel\\\\Documents\\\\Malky\\\\research\\\\saved_models\\\\mla_deepSeek_reverse\\\\ReverseTask\\\\lightning_logs\\\\version_7\\\\checkpoints\\\\epoch=9-step=3900.ckpt\""
   ]
  },
  {
   "cell_type": "code",
   "execution_count": 24,
   "metadata": {},
   "outputs": [],
   "source": [
    "class TransformerPredictor(nn.Module):\n",
    "\n",
    "    def __init__(self, args):\n",
    "        \"\"\"\n",
    "        Inputs:\n",
    "           \n",
    "            lr - Learning rate in the optimizer\n",
    "            warmup - Number of warmup steps. Usually between 50 and 500\n",
    "            max_iters - Number of maximum iterations the model is trained for. This is needed for the CosineWarmup scheduler\n",
    "        \"\"\"\n",
    "        super().__init__()\n",
    "         # Save hyperparameters to the checkpoint\n",
    "        # self.save_hyperparameters()\n",
    "\n",
    "        # self.warmup = kwargs.get('warmup', 50)\n",
    "        # self.max_iters = kwargs.get('max_iters', 50)\n",
    "        # self.lr = kwargs.get(\"lr\", 1e-6 )\n",
    "\n",
    "        self.vocab_size = args.vocab_size\n",
    "        # dropout_out = kwargs.get(\"dropout_out\", 0.1)\n",
    "        \n",
    "        self.transformer = Transformer(args=args)\n",
    "        self.output_net = nn.Sequential(\n",
    "            nn.Linear(args.dim, args.dim),\n",
    "            nn.RMSNorm(args.dim),\n",
    "            nn.ReLU(inplace=True),\n",
    "            nn.Dropout(0.1),\n",
    "            nn.Linear(args.dim, args.vocab_size)\n",
    "        )\n",
    "    \n",
    "    def forward(self, x: torch.Tensor, mask=Optional[torch.Tensor], start_pos: int = 0):\n",
    "        x = self.transformer(tokens = x, mask = mask, start_pos = start_pos)\n",
    "        x = self.output_net(x)\n",
    "        return x\n",
    "    \n",
    "    @torch.no_grad()\n",
    "    def get_attention_maps(self, x: torch.Tensor, mask=Optional[torch.Tensor], start_pos: int = 0):\n",
    "        \"\"\"\n",
    "        Function for extracting the attention matrices of the whole Transformer for a single batch.\n",
    "        Input arguments same as the forward pass.\n",
    "        \"\"\"\n",
    "        attention_maps = self.transformer.get_attention_maps(tokens = x, mask = mask, start_pos = start_pos)\n",
    "        return attention_maps"
   ]
  },
  {
   "cell_type": "code",
   "execution_count": 43,
   "metadata": {},
   "outputs": [],
   "source": [
    "args = ModelArgs()\n",
    "args.input_dim = 10\n",
    "args.vocab_size = 10\n",
    "args.max_batch_size = batch_size\n",
    "\n",
    "args.dim = 32\n",
    "args.inter_dim =  2 * args.dim\n",
    "args.n_heads = 1\n",
    "args.n_layers = 1\n",
    "\n",
    "args.q_lora_rank = 16\n",
    "args.kv_lora_rank = 16\n",
    "args.qk_nope_head_dim  = 4\n",
    "args.qk_rope_head_dim = 6\n",
    "args.v_head_dim = 32\n",
    "args.dropout = 0.1\n",
    "\n",
    "\n",
    "# train = {\n",
    "#     \"dropout_out\":0.2,\n",
    "#     \"warmup\" : 200,\n",
    "#     \"max_iters\":200*len(train_loader),\n",
    "#     \"lr\": 3e-4,\n",
    "#     \"max_epochs\": 200\n",
    "  \n",
    "#     }\n",
    "model = TransformerPredictor(args=args)\n"
   ]
  },
  {
   "cell_type": "code",
   "execution_count": 38,
   "metadata": {},
   "outputs": [],
   "source": [
    "torch.serialization.add_safe_globals([ModelArgs])\n"
   ]
  },
  {
   "cell_type": "code",
   "execution_count": 39,
   "metadata": {},
   "outputs": [],
   "source": [
    "# Load the checkpoint with weights_only=False\n",
    "checkpoint = torch.load(CHECKPOINT_PATH_FILE, weights_only=False)"
   ]
  },
  {
   "cell_type": "code",
   "execution_count": 40,
   "metadata": {},
   "outputs": [],
   "source": [
    "# Extract the state_dict (model weights)\n",
    "state_dict = checkpoint['state_dict']"
   ]
  },
  {
   "cell_type": "code",
   "execution_count": 42,
   "metadata": {},
   "outputs": [
    {
     "data": {
      "text/plain": [
       "odict_keys(['transformer.embed.weight', 'transformer.embed.bias', 'transformer.layers.0.attn.wq_a.weight', 'transformer.layers.0.attn.wq_a.bias', 'transformer.layers.0.attn.q_norm.weight', 'transformer.layers.0.attn.wq_b.weight', 'transformer.layers.0.attn.wq_b.bias', 'transformer.layers.0.attn.wkv_a.weight', 'transformer.layers.0.attn.wkv_a.bias', 'transformer.layers.0.attn.kv_norm.weight', 'transformer.layers.0.attn.wkv_b.weight', 'transformer.layers.0.attn.wkv_b.bias', 'transformer.layers.0.attn.wo.weight', 'transformer.layers.0.attn.wo.bias', 'transformer.layers.0.ffn.w1.weight', 'transformer.layers.0.ffn.w1.bias', 'transformer.layers.0.ffn.w2.weight', 'transformer.layers.0.ffn.w2.bias', 'transformer.layers.0.ffn.w3.weight', 'transformer.layers.0.ffn.w3.bias', 'transformer.layers.0.attn_norm.weight', 'transformer.layers.0.ffn_norm.weight', 'output_net.0.weight', 'output_net.0.bias', 'output_net.1.weight', 'output_net.4.weight', 'output_net.4.bias'])"
      ]
     },
     "execution_count": 42,
     "metadata": {},
     "output_type": "execute_result"
    }
   ],
   "source": [
    "state_dict.keys()"
   ]
  },
  {
   "cell_type": "code",
   "execution_count": 52,
   "metadata": {},
   "outputs": [
    {
     "data": {
      "text/plain": [
       "TransformerPredictor(\n",
       "  (transformer): Transformer(\n",
       "    (embed): Linear(in_features=10, out_features=32, bias=True)\n",
       "    (layers): ModuleList(\n",
       "      (0): Block(\n",
       "        (attn): MLA(\n",
       "          (dropout): Dropout(p=0.1, inplace=False)\n",
       "          (wq_a): Linear(in_features=32, out_features=16, bias=True)\n",
       "          (q_norm): RMSNorm((16,), eps=None, elementwise_affine=True)\n",
       "          (wq_b): Linear(in_features=16, out_features=10, bias=True)\n",
       "          (wkv_a): Linear(in_features=32, out_features=22, bias=True)\n",
       "          (kv_norm): RMSNorm((16,), eps=None, elementwise_affine=True)\n",
       "          (wkv_b): Linear(in_features=16, out_features=36, bias=True)\n",
       "          (wo): Linear(in_features=32, out_features=32, bias=True)\n",
       "        )\n",
       "        (ffn): MLP(\n",
       "          (w1): Linear(in_features=32, out_features=64, bias=True)\n",
       "          (w2): Linear(in_features=64, out_features=32, bias=True)\n",
       "          (w3): Linear(in_features=32, out_features=64, bias=True)\n",
       "          (dropout): Dropout(p=0.1, inplace=False)\n",
       "        )\n",
       "        (attn_norm): RMSNorm((32,), eps=None, elementwise_affine=True)\n",
       "        (ffn_norm): RMSNorm((32,), eps=None, elementwise_affine=True)\n",
       "        (dropout): Dropout(p=0.1, inplace=False)\n",
       "      )\n",
       "    )\n",
       "    (dropout): Dropout(p=0.1, inplace=False)\n",
       "  )\n",
       "  (output_net): Sequential(\n",
       "    (0): Linear(in_features=32, out_features=32, bias=True)\n",
       "    (1): RMSNorm((32,), eps=None, elementwise_affine=True)\n",
       "    (2): ReLU(inplace=True)\n",
       "    (3): Dropout(p=0.1, inplace=False)\n",
       "    (4): Linear(in_features=32, out_features=10, bias=True)\n",
       "  )\n",
       ")"
      ]
     },
     "execution_count": 52,
     "metadata": {},
     "output_type": "execute_result"
    }
   ],
   "source": [
    "model.load_state_dict(state_dict)\n",
    "model =  model.to(device)\n",
    "model.eval()  # Set to evaluation mode"
   ]
  },
  {
   "cell_type": "code",
   "execution_count": 53,
   "metadata": {},
   "outputs": [
    {
     "data": {
      "text/plain": [
       "<Figure size 640x480 with 0 Axes>"
      ]
     },
     "metadata": {},
     "output_type": "display_data"
    },
    {
     "data": {
      "image/png": "[encoded data removed]",
      "text/plain": [
       "<Figure size 400x400 with 1 Axes>"
      ]
     },
     "metadata": {},
     "output_type": "display_data"
    }
   ],
   "source": [
    "data_input, labels = next(iter(val_loader))\n",
    "inp_data = nn.functional.one_hot(data_input, num_classes=train_loader.dataset.num_categories).float()\n",
    "inp_data = inp_data.to(device)\n",
    "\n",
    "attention_maps = model.get_attention_maps(inp_data, mask=None, start_pos=0)\n",
    "\n",
    "\n",
    "attention_maps[0].shape\n",
    "plot_attention_maps(data_input, attention_maps, idx=0)"
   ]
  },
  {
   "cell_type": "code",
   "execution_count": 55,
   "metadata": {},
   "outputs": [
    {
     "name": "stdout",
     "output_type": "stream",
     "text": [
      "Acc tensor(0.3164)\n"
     ]
    }
   ],
   "source": [
    "with torch.no_grad(): \n",
    "    output = model(inp_data, mask=None, start_pos=0)\n",
    "acc = (output.argmax(dim=-1).detach().cpu() == labels).float().mean()\n",
    "print(\"Acc\", acc)"
   ]
  },
  {
   "cell_type": "code",
   "execution_count": null,
   "metadata": {},
   "outputs": [],
   "source": []
  }
 ],
 "metadata": {
  "kernelspec": {
   "display_name": "base",
   "language": "python",
   "name": "python3"
  },
  "language_info": {
   "codemirror_mode": {
    "name": "ipython",
    "version": 3
   },
   "file_extension": ".py",
   "mimetype": "text/x-python",
   "name": "python",
   "nbconvert_exporter": "python",
   "pygments_lexer": "ipython3",
   "version": "3.12.7"
  }
 },
 "nbformat": 4,
 "nbformat_minor": 2
}
